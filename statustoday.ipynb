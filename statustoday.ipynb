{
 "cells": [
  {
   "cell_type": "markdown",
   "metadata": {},
   "source": [
    "# StatusToday Project\n",
    "\n",
    "## Loading the data"
   ]
  },
  {
   "cell_type": "code",
   "execution_count": 1,
   "metadata": {
    "collapsed": true
   },
   "outputs": [],
   "source": [
    "%matplotlib inline\n",
    "\n",
    "import pickle\n",
    "import pandas as pd\n",
    "import matplotlib.pyplot as plt\n",
    "from sklearn.model_selection import train_test_split\n",
    "import numpy as np\n",
    "\n",
    "plt.rcParams['figure.figsize'] = 15,10\n",
    "plt.rcParams['font.size'] = 14\n",
    "np.random.seed(0)"
   ]
  },
  {
   "cell_type": "code",
   "execution_count": 2,
   "metadata": {
    "collapsed": true
   },
   "outputs": [],
   "source": [
    "df = pd.read_csv('../data/exercise.csv')"
   ]
  },
  {
   "cell_type": "markdown",
   "metadata": {},
   "source": [
    "## Hold-out Dataset\n",
    "\n",
    "In order to validate the final performance, a small partition of the data will be kept untouched."
   ]
  },
  {
   "cell_type": "code",
   "execution_count": 3,
   "metadata": {},
   "outputs": [
    {
     "data": {
      "text/plain": [
       "1429"
      ]
     },
     "execution_count": 3,
     "metadata": {},
     "output_type": "execute_result"
    }
   ],
   "source": [
    "len(df)"
   ]
  },
  {
   "cell_type": "markdown",
   "metadata": {},
   "source": [
    "The data is very small, so, instead of the usual 0.7/0.3 train/test split, I will use only 0.2 of the data for test. This takes in consideration that the train data may also be split in a train/validation manner.\n",
    "\n",
    "Using `sklearn.model_selection.train_test_split()` to make sure the dataframe is randomised before splitting to avoid possible order confounds. The function also allows us to stratify it on split, but, for this exercise, I will avoid this so the test set looks more similar to a real world test where classes are likely imbalanced."
   ]
  },
  {
   "cell_type": "code",
   "execution_count": 4,
   "metadata": {},
   "outputs": [],
   "source": [
    "train, test = train_test_split(df, test_size=0.2, random_state=0)"
   ]
  },
  {
   "cell_type": "markdown",
   "metadata": {},
   "source": [
    "## Data Exploration"
   ]
  },
  {
   "cell_type": "code",
   "execution_count": 5,
   "metadata": {},
   "outputs": [
    {
     "data": {
      "text/html": [
       "<div>\n",
       "<style>\n",
       "    .dataframe thead tr:only-child th {\n",
       "        text-align: right;\n",
       "    }\n",
       "\n",
       "    .dataframe thead th {\n",
       "        text-align: left;\n",
       "    }\n",
       "\n",
       "    .dataframe tbody tr th {\n",
       "        vertical-align: top;\n",
       "    }\n",
       "</style>\n",
       "<table border=\"1\" class=\"dataframe\">\n",
       "  <thead>\n",
       "    <tr style=\"text-align: right;\">\n",
       "      <th></th>\n",
       "      <th>Feature_0</th>\n",
       "      <th>Feature_1</th>\n",
       "      <th>Feature_2</th>\n",
       "      <th>Feature_3</th>\n",
       "      <th>Feature_4</th>\n",
       "      <th>Feature_5</th>\n",
       "      <th>Feature_6</th>\n",
       "      <th>Feature_7</th>\n",
       "      <th>Feature_8</th>\n",
       "      <th>Feature_9</th>\n",
       "      <th>Class</th>\n",
       "    </tr>\n",
       "  </thead>\n",
       "  <tbody>\n",
       "    <tr>\n",
       "      <th>count</th>\n",
       "      <td>1128.000000</td>\n",
       "      <td>1138.000000</td>\n",
       "      <td>1130.000000</td>\n",
       "      <td>1136.000000</td>\n",
       "      <td>1134.000000</td>\n",
       "      <td>1127.000000</td>\n",
       "      <td>1134.000000</td>\n",
       "      <td>1126.000000</td>\n",
       "      <td>1135.000000</td>\n",
       "      <td>1132.000000</td>\n",
       "      <td>1143.000000</td>\n",
       "    </tr>\n",
       "    <tr>\n",
       "      <th>mean</th>\n",
       "      <td>2.761482</td>\n",
       "      <td>18.835952</td>\n",
       "      <td>-9.574803</td>\n",
       "      <td>9.983717</td>\n",
       "      <td>13.777209</td>\n",
       "      <td>-18.585281</td>\n",
       "      <td>-16.727119</td>\n",
       "      <td>-22.516695</td>\n",
       "      <td>-0.927062</td>\n",
       "      <td>9.948885</td>\n",
       "      <td>0.371829</td>\n",
       "    </tr>\n",
       "    <tr>\n",
       "      <th>std</th>\n",
       "      <td>0.091941</td>\n",
       "      <td>0.066747</td>\n",
       "      <td>0.229120</td>\n",
       "      <td>0.251615</td>\n",
       "      <td>1.521873</td>\n",
       "      <td>0.509294</td>\n",
       "      <td>9.274187</td>\n",
       "      <td>0.028943</td>\n",
       "      <td>0.325220</td>\n",
       "      <td>0.424079</td>\n",
       "      <td>0.483504</td>\n",
       "    </tr>\n",
       "    <tr>\n",
       "      <th>min</th>\n",
       "      <td>2.140701</td>\n",
       "      <td>18.043017</td>\n",
       "      <td>-10.471220</td>\n",
       "      <td>9.148813</td>\n",
       "      <td>9.178957</td>\n",
       "      <td>-20.810481</td>\n",
       "      <td>-45.823666</td>\n",
       "      <td>-23.147576</td>\n",
       "      <td>-2.063484</td>\n",
       "      <td>8.928247</td>\n",
       "      <td>0.000000</td>\n",
       "    </tr>\n",
       "    <tr>\n",
       "      <th>25%</th>\n",
       "      <td>2.741825</td>\n",
       "      <td>18.841566</td>\n",
       "      <td>-9.690766</td>\n",
       "      <td>9.865447</td>\n",
       "      <td>12.810516</td>\n",
       "      <td>-18.841014</td>\n",
       "      <td>-23.298961</td>\n",
       "      <td>-22.515233</td>\n",
       "      <td>-1.106257</td>\n",
       "      <td>9.663847</td>\n",
       "      <td>0.000000</td>\n",
       "    </tr>\n",
       "    <tr>\n",
       "      <th>50%</th>\n",
       "      <td>2.810525</td>\n",
       "      <td>18.841566</td>\n",
       "      <td>-9.612721</td>\n",
       "      <td>10.008774</td>\n",
       "      <td>13.687099</td>\n",
       "      <td>-18.432257</td>\n",
       "      <td>-16.491196</td>\n",
       "      <td>-22.515233</td>\n",
       "      <td>-0.890881</td>\n",
       "      <td>9.921471</td>\n",
       "      <td>0.000000</td>\n",
       "    </tr>\n",
       "    <tr>\n",
       "      <th>75%</th>\n",
       "      <td>2.810525</td>\n",
       "      <td>18.841566</td>\n",
       "      <td>-9.495653</td>\n",
       "      <td>10.152101</td>\n",
       "      <td>14.688909</td>\n",
       "      <td>-18.227878</td>\n",
       "      <td>-10.454935</td>\n",
       "      <td>-22.515233</td>\n",
       "      <td>-0.699436</td>\n",
       "      <td>10.178898</td>\n",
       "      <td>1.000000</td>\n",
       "    </tr>\n",
       "    <tr>\n",
       "      <th>max</th>\n",
       "      <td>2.999449</td>\n",
       "      <td>18.841566</td>\n",
       "      <td>-7.622564</td>\n",
       "      <td>11.413376</td>\n",
       "      <td>20.073634</td>\n",
       "      <td>-17.614742</td>\n",
       "      <td>8.135920</td>\n",
       "      <td>-22.515233</td>\n",
       "      <td>-0.005447</td>\n",
       "      <td>11.401405</td>\n",
       "      <td>1.000000</td>\n",
       "    </tr>\n",
       "  </tbody>\n",
       "</table>\n",
       "</div>"
      ],
      "text/plain": [
       "         Feature_0    Feature_1    Feature_2    Feature_3    Feature_4  \\\n",
       "count  1128.000000  1138.000000  1130.000000  1136.000000  1134.000000   \n",
       "mean      2.761482    18.835952    -9.574803     9.983717    13.777209   \n",
       "std       0.091941     0.066747     0.229120     0.251615     1.521873   \n",
       "min       2.140701    18.043017   -10.471220     9.148813     9.178957   \n",
       "25%       2.741825    18.841566    -9.690766     9.865447    12.810516   \n",
       "50%       2.810525    18.841566    -9.612721    10.008774    13.687099   \n",
       "75%       2.810525    18.841566    -9.495653    10.152101    14.688909   \n",
       "max       2.999449    18.841566    -7.622564    11.413376    20.073634   \n",
       "\n",
       "         Feature_5    Feature_6    Feature_7    Feature_8    Feature_9  \\\n",
       "count  1127.000000  1134.000000  1126.000000  1135.000000  1132.000000   \n",
       "mean    -18.585281   -16.727119   -22.516695    -0.927062     9.948885   \n",
       "std       0.509294     9.274187     0.028943     0.325220     0.424079   \n",
       "min     -20.810481   -45.823666   -23.147576    -2.063484     8.928247   \n",
       "25%     -18.841014   -23.298961   -22.515233    -1.106257     9.663847   \n",
       "50%     -18.432257   -16.491196   -22.515233    -0.890881     9.921471   \n",
       "75%     -18.227878   -10.454935   -22.515233    -0.699436    10.178898   \n",
       "max     -17.614742     8.135920   -22.515233    -0.005447    11.401405   \n",
       "\n",
       "             Class  \n",
       "count  1143.000000  \n",
       "mean      0.371829  \n",
       "std       0.483504  \n",
       "min       0.000000  \n",
       "25%       0.000000  \n",
       "50%       0.000000  \n",
       "75%       1.000000  \n",
       "max       1.000000  "
      ]
     },
     "execution_count": 5,
     "metadata": {},
     "output_type": "execute_result"
    }
   ],
   "source": [
    "train.describe()"
   ]
  },
  {
   "cell_type": "markdown",
   "metadata": {},
   "source": [
    "Please note that exact numbers may differ depending on the initial sample\n",
    "\n",
    "- **Dataset size:** From above, we can see that there are 9 features and 1,143 data points (`1143x9` data). This is a small dataset which means that deep learning is likely unnecessary, and decision trees or even logistic regression may do the job.\n",
    "- **Missing values:** The `count` row shows that, in fact, there are no columns where no data point is missing (i.e. all are lower than the `count` for `Class`). However, there are at most 18 values missing for a feature, which makes for $\\approx 0.012%$ missing values. This may indicate that imputation is not necessary or using the mean (or discarding the data) may be sufficient.\n",
    "- **Class imbalance:** The `mean` row combined with the `Class` column shows us that classes are not perfectly balanced: $\\approx 37\\%$ of the data belongs to class `1`, and the rest of $\\approx 63\\%$ of the data belongs to class `0`. This may be useful insight when applying cross-validation, as stratified CV may be preferable.\n",
    "- **Constant features:**\n",
    "  - The `std` row shows us that columns such as `Feature_0`, `Feature_1`, and `Feature_7` have very little variation and they may be almost constant among samples, thus of low predictive power. This needs to be investigated furter.\n",
    "  - The percentiles show us that features such as `Feature_1` and `Feature_7` are nearly constant, and it should be kept in mind that we may transform them in a binary column.\n",
    "  \n",
    "  \n",
    "### Constant columns"
   ]
  },
  {
   "cell_type": "code",
   "execution_count": 6,
   "metadata": {},
   "outputs": [
    {
     "data": {
      "text/html": [
       "<div>\n",
       "<style>\n",
       "    .dataframe thead tr:only-child th {\n",
       "        text-align: right;\n",
       "    }\n",
       "\n",
       "    .dataframe thead th {\n",
       "        text-align: left;\n",
       "    }\n",
       "\n",
       "    .dataframe tbody tr th {\n",
       "        vertical-align: top;\n",
       "    }\n",
       "</style>\n",
       "<table border=\"1\" class=\"dataframe\">\n",
       "  <thead>\n",
       "    <tr style=\"text-align: right;\">\n",
       "      <th></th>\n",
       "      <th>Feature_0</th>\n",
       "      <th>Feature_1</th>\n",
       "      <th>Feature_2</th>\n",
       "      <th>Feature_3</th>\n",
       "      <th>Feature_4</th>\n",
       "      <th>Feature_5</th>\n",
       "      <th>Feature_6</th>\n",
       "      <th>Feature_7</th>\n",
       "      <th>Feature_8</th>\n",
       "      <th>Feature_9</th>\n",
       "      <th>Class</th>\n",
       "    </tr>\n",
       "  </thead>\n",
       "  <tbody>\n",
       "    <tr>\n",
       "      <th>1352</th>\n",
       "      <td>2.810525</td>\n",
       "      <td>18.841566</td>\n",
       "      <td>-9.534676</td>\n",
       "      <td>9.521463</td>\n",
       "      <td>14.563683</td>\n",
       "      <td>-18.283618</td>\n",
       "      <td>-18.433329</td>\n",
       "      <td>-22.515233</td>\n",
       "      <td>-0.675505</td>\n",
       "      <td>9.777620</td>\n",
       "      <td>1</td>\n",
       "    </tr>\n",
       "    <tr>\n",
       "      <th>1325</th>\n",
       "      <td>2.664538</td>\n",
       "      <td>18.841566</td>\n",
       "      <td>-9.456630</td>\n",
       "      <td>9.865447</td>\n",
       "      <td>12.685290</td>\n",
       "      <td>-18.283618</td>\n",
       "      <td>4.809828</td>\n",
       "      <td>-22.515233</td>\n",
       "      <td>-0.412268</td>\n",
       "      <td>9.300945</td>\n",
       "      <td>0</td>\n",
       "    </tr>\n",
       "    <tr>\n",
       "      <th>299</th>\n",
       "      <td>2.784762</td>\n",
       "      <td>18.841566</td>\n",
       "      <td>-9.651744</td>\n",
       "      <td>9.750786</td>\n",
       "      <td>15.315040</td>\n",
       "      <td>-18.060659</td>\n",
       "      <td>-19.526271</td>\n",
       "      <td>-22.515233</td>\n",
       "      <td>-1.249841</td>\n",
       "      <td>10.367855</td>\n",
       "      <td>0</td>\n",
       "    </tr>\n",
       "    <tr>\n",
       "      <th>420</th>\n",
       "      <td>2.810525</td>\n",
       "      <td>18.841566</td>\n",
       "      <td>-9.729789</td>\n",
       "      <td>10.008774</td>\n",
       "      <td>14.563683</td>\n",
       "      <td>-19.992967</td>\n",
       "      <td>-14.275344</td>\n",
       "      <td>-22.515233</td>\n",
       "      <td>-0.819089</td>\n",
       "      <td>9.862301</td>\n",
       "      <td>1</td>\n",
       "    </tr>\n",
       "    <tr>\n",
       "      <th>513</th>\n",
       "      <td>2.810525</td>\n",
       "      <td>18.841566</td>\n",
       "      <td>-9.690766</td>\n",
       "      <td>9.894112</td>\n",
       "      <td>13.060968</td>\n",
       "      <td>-18.432257</td>\n",
       "      <td>-27.965517</td>\n",
       "      <td>-22.515233</td>\n",
       "      <td>-1.010535</td>\n",
       "      <td>9.902517</td>\n",
       "      <td>0</td>\n",
       "    </tr>\n",
       "  </tbody>\n",
       "</table>\n",
       "</div>"
      ],
      "text/plain": [
       "      Feature_0  Feature_1  Feature_2  Feature_3  Feature_4  Feature_5  \\\n",
       "1352   2.810525  18.841566  -9.534676   9.521463  14.563683 -18.283618   \n",
       "1325   2.664538  18.841566  -9.456630   9.865447  12.685290 -18.283618   \n",
       "299    2.784762  18.841566  -9.651744   9.750786  15.315040 -18.060659   \n",
       "420    2.810525  18.841566  -9.729789  10.008774  14.563683 -19.992967   \n",
       "513    2.810525  18.841566  -9.690766   9.894112  13.060968 -18.432257   \n",
       "\n",
       "      Feature_6  Feature_7  Feature_8  Feature_9  Class  \n",
       "1352 -18.433329 -22.515233  -0.675505   9.777620      1  \n",
       "1325   4.809828 -22.515233  -0.412268   9.300945      0  \n",
       "299  -19.526271 -22.515233  -1.249841  10.367855      0  \n",
       "420  -14.275344 -22.515233  -0.819089   9.862301      1  \n",
       "513  -27.965517 -22.515233  -1.010535   9.902517      0  "
      ]
     },
     "execution_count": 6,
     "metadata": {},
     "output_type": "execute_result"
    }
   ],
   "source": [
    "train.head()"
   ]
  },
  {
   "cell_type": "markdown",
   "metadata": {},
   "source": [
    "Taking a peek at the dataset reveals that, indeed, some columns may have constant values. Now, in order to get a more descriptive view about this:"
   ]
  },
  {
   "cell_type": "code",
   "execution_count": 7,
   "metadata": {},
   "outputs": [
    {
     "data": {
      "text/plain": [
       "Feature_0      65\n",
       "Feature_1       2\n",
       "Feature_2      45\n",
       "Feature_3      52\n",
       "Feature_4      74\n",
       "Feature_5      74\n",
       "Feature_6    1134\n",
       "Feature_7       3\n",
       "Feature_8      80\n",
       "Feature_9    1132\n",
       "Class           2\n",
       "dtype: int64"
      ]
     },
     "execution_count": 7,
     "metadata": {},
     "output_type": "execute_result"
    }
   ],
   "source": [
    "train.apply(lambda x: x.nunique())"
   ]
  },
  {
   "cell_type": "markdown",
   "metadata": {},
   "source": [
    "The table above reveals that although the data appears to be continuous, many of the columns may be considered discrete. For some it may be helpful to take an even closer look:"
   ]
  },
  {
   "cell_type": "code",
   "execution_count": 8,
   "metadata": {},
   "outputs": [
    {
     "name": "stdout",
     "output_type": "stream",
     "text": [
      "18.841566    1130\n",
      "18.043017       8\n",
      "Name: Feature_1, dtype: int64\n",
      "-22.515233    1123\n",
      "-23.147576       2\n",
      "-22.896163       1\n",
      "Name: Feature_7, dtype: int64\n"
     ]
    }
   ],
   "source": [
    "print(train['Feature_1'].value_counts())\n",
    "print(train['Feature_7'].value_counts())"
   ]
  },
  {
   "cell_type": "markdown",
   "metadata": {},
   "source": [
    "`Feature_7` has 1,124 identical values and 3 different values. Those 3 different values are likely not enough to help a model learn a pattern and may introduce noise. Before removing both `Feature_1` and `Feature_7`, I'll check if all 7 rows where `Feature_7 == 18.043017` happen to map to the same class:"
   ]
  },
  {
   "cell_type": "code",
   "execution_count": 9,
   "metadata": {},
   "outputs": [
    {
     "data": {
      "image/png": "[encoded data removed]",
      "text/plain": [
       "<matplotlib.figure.Figure at 0x7f7bd691ddd8>"
      ]
     },
     "metadata": {},
     "output_type": "display_data"
    }
   ],
   "source": [
    "items = list(train[train['Feature_1'] != float(train['Feature_1'].mode())]['Class'])\n",
    "plt.pie([len(items) - sum(items), sum(items)], labels=['0', '1'])\n",
    "plt.legend()\n",
    "plt.title('Class distribution for values of unusual values for Feature 1')\n",
    "plt.show()"
   ]
  },
  {
   "cell_type": "markdown",
   "metadata": {},
   "source": [
    "No clear pattern could be distinguished from this brief survey, so both columns will be dropped to reduce noise:"
   ]
  },
  {
   "cell_type": "code",
   "execution_count": 10,
   "metadata": {},
   "outputs": [],
   "source": [
    "def drop_cols(col_names, train, test):\n",
    "    \"\"\"Delete column for both train and test dataframes\"\"\"\n",
    "    for col_name in col_names:\n",
    "        train = train.drop(col_name, axis=1)\n",
    "        test = test.drop(col_name, axis=1)\n",
    "    return train, test\n",
    "\n",
    "train, test = drop_cols(['Feature_1', 'Feature_7'], train, test)"
   ]
  },
  {
   "cell_type": "markdown",
   "metadata": {},
   "source": [
    "### Missing values\n",
    "\n",
    "How many missing values are there for each feature?"
   ]
  },
  {
   "cell_type": "code",
   "execution_count": 11,
   "metadata": {},
   "outputs": [
    {
     "data": {
      "text/plain": [
       "Feature_0    15\n",
       "Feature_2    13\n",
       "Feature_3     7\n",
       "Feature_4     9\n",
       "Feature_5    16\n",
       "Feature_6     9\n",
       "Feature_8     8\n",
       "Feature_9    11\n",
       "Class         0\n",
       "dtype: int64"
      ]
     },
     "execution_count": 11,
     "metadata": {},
     "output_type": "execute_result"
    }
   ],
   "source": [
    "train.apply(lambda x: x.isnull().sum())"
   ]
  },
  {
   "cell_type": "markdown",
   "metadata": {},
   "source": [
    "Not too many, considering there are almost 1,500 datapoints.\n",
    "\n",
    "Do missing values say anything about a class?"
   ]
  },
  {
   "cell_type": "code",
   "execution_count": 12,
   "metadata": {},
   "outputs": [
    {
     "data": {
      "image/png": "[encoded data removed]",
      "text/plain": [
       "<matplotlib.figure.Figure at 0x7f7bd4873b70>"
      ]
     },
     "metadata": {},
     "output_type": "display_data"
    }
   ],
   "source": [
    "plt.bar(range(11), [df[df[feature].isnull()]['Class'].mean() for feature in df.columns])\n",
    "plt.xlabel('Features')\n",
    "plt.ylabel('Class mean')\n",
    "plt.title('Class means for missing values')\n",
    "plt.show()"
   ]
  },
  {
   "cell_type": "markdown",
   "metadata": {},
   "source": [
    "Nothing particularly obvious.\n",
    "\n",
    "How many rows would we lose if we discard data with missing features? Some rows may have multiple missing values."
   ]
  },
  {
   "cell_type": "code",
   "execution_count": 13,
   "metadata": {},
   "outputs": [
    {
     "name": "stdout",
     "output_type": "stream",
     "text": [
      "Rows with missing value(s): 87\n",
      "In percentages 7.6%:\n"
     ]
    }
   ],
   "source": [
    "n_rows = len(train[train.isnull().any(axis=1)])\n",
    "print('Rows with missing value(s):', n_rows)\n",
    "print('In percentages {:.1%}:'.format(n_rows/len(train)))"
   ]
  },
  {
   "cell_type": "markdown",
   "metadata": {},
   "source": [
    "Removing $9.4\\%$ from an already small dataset may not be a good idea.\n",
    "\n",
    "Is there anything unusual about these rows?"
   ]
  },
  {
   "cell_type": "code",
   "execution_count": 14,
   "metadata": {},
   "outputs": [
    {
     "name": "stdout",
     "output_type": "stream",
     "text": [
      "Class mean for the data subset where values are missing: 0.345\n",
      "Class mean for the data where no values are missing: 0.374\n"
     ]
    }
   ],
   "source": [
    "print('Class mean for the data subset where values are missing:',\n",
    "      round(train[train.isnull().any(axis=1)]['Class'].mean(), 3))\n",
    "print('Class mean for the data where no values are missing:',\n",
    "      round(train[~train.isnull().any(axis=1)]['Class'].mean(), 3))"
   ]
  },
  {
   "cell_type": "markdown",
   "metadata": {},
   "source": [
    "The classes seem to be similarly distributed for the missing rows as they are for the entire `train` dataframe. Plus, one should consider that there are 115 missing values, and 100 of them happen on independent rows. Therefore, there may not be a specific pattern for why data is missing (i.e. the deletions were random), so imputting the mean may be a good idea."
   ]
  },
  {
   "cell_type": "code",
   "execution_count": 15,
   "metadata": {},
   "outputs": [],
   "source": [
    "train.fillna(train.mean(), inplace=True);\n",
    "test.fillna(train.mean(), inplace=True); # Fill test with train.mean() as well"
   ]
  },
  {
   "cell_type": "markdown",
   "metadata": {},
   "source": [
    "## Basic Checking\n",
    "\n",
    "Now that the data has no missing values, before hunting for more insight into the data, we can setup a simple algorithm to see if we actually need to look further into the data."
   ]
  },
  {
   "cell_type": "code",
   "execution_count": 16,
   "metadata": {},
   "outputs": [],
   "source": [
    "from sklearn.linear_model import LogisticRegressionCV"
   ]
  },
  {
   "cell_type": "code",
   "execution_count": 17,
   "metadata": {},
   "outputs": [
    {
     "name": "stdout",
     "output_type": "stream",
     "text": [
      "AUROC (best mean from all folds): 0.869836601307\n"
     ]
    }
   ],
   "source": [
    "def check_lr(train):\n",
    "    X, y = train.drop('Class', axis=1), train['Class']\n",
    "\n",
    "    lr = LogisticRegressionCV(\n",
    "        scoring='roc_auc', # Different metrics may be used.\n",
    "                           # For instance area under the precision-recall curve or F1-score\n",
    "        cv=5, # calls StratifiedKFold by default\n",
    "        random_state=0, # for reproducibility\n",
    "    )\n",
    "    lr.fit(X, y)\n",
    "    print('AUROC (best mean from all folds):', lr.scores_[1].mean(axis=1).max())\n",
    "    return X, y\n",
    "\n",
    "X, y = check_lr(train)"
   ]
  },
  {
   "cell_type": "markdown",
   "metadata": {},
   "source": [
    "The area under the ROC curve for logistic regression is quite high, even if logistic regression is a linear classifier. It may be the case that there aren't any significant nonlinear relationships between features, and some may even be unnecessary. \n",
    "\n",
    "### Feature Importance\n",
    "\n",
    "We can verify feature importance using decision trees, as trees have various way of estimating importance. CART algorithms use Gini impurity as a performance metric and it can be quantified how much a feature helps us reduce impurity."
   ]
  },
  {
   "cell_type": "code",
   "execution_count": 18,
   "metadata": {},
   "outputs": [
    {
     "name": "stdout",
     "output_type": "stream",
     "text": [
      "Feature importances:\n",
      "Feature_3: 0.2588895252182476\n",
      "Feature_5: 0.1700800335176481\n",
      "Feature_4: 0.1331895259562927\n",
      "Feature_9: 0.11685542513805833\n",
      "Feature_8: 0.10109256951590824\n",
      "Feature_2: 0.07936791941864828\n",
      "Feature_6: 0.07032455713334693\n",
      "Feature_0: 0.07020044410184982\n"
     ]
    }
   ],
   "source": [
    "from sklearn.ensemble import ExtraTreesClassifier\n",
    "\n",
    "extra_trees = ExtraTreesClassifier() # Uses Gini impurity by default\n",
    "\n",
    "extra_trees.fit(X, y)\n",
    "indices = np.argsort(extra_trees.feature_importances_)[::-1]\n",
    "\n",
    "# Print the feature ranking\n",
    "print(\"Feature importances:\")\n",
    "for index in indices:\n",
    "    print('{}: {}'.format(X.columns[index], extra_trees.feature_importances_[index]))"
   ]
  },
  {
   "cell_type": "markdown",
   "metadata": {},
   "source": [
    "We can see that `Feature_6`, `Feature_2`, `Feature_8`, `Feature_9`, and `Feature_0` add very little contribution to our result, and thus they may be noisy variables. We will drop them and recheck the AUROC for LR."
   ]
  },
  {
   "cell_type": "code",
   "execution_count": 19,
   "metadata": {},
   "outputs": [
    {
     "name": "stdout",
     "output_type": "stream",
     "text": [
      "AUROC (best mean from all folds): 0.871503267974\n"
     ]
    }
   ],
   "source": [
    "train, test = drop_cols(['Feature_6', 'Feature_2', 'Feature_0', 'Feature_8', 'Feature_9'], train, test)\n",
    "X, y = check_lr(train)"
   ]
  },
  {
   "cell_type": "markdown",
   "metadata": {},
   "source": [
    "It can be observed that our prediction score increased without the 5 features we just removed, and thus they were either noisy or they were modelling nonlinear relationships . A more detailed analysis could be performed at this point to check the CV scores for each missing feature, but it may be unnecessary at this point."
   ]
  },
  {
   "cell_type": "markdown",
   "metadata": {},
   "source": [
    "## Final Model\n",
    "\n",
    "At this point, the performance of the model may be improved through several methods:\n",
    "- One may try to engineer nonlinear features; however, given that the featuers are anonymised, it would be a brute-force effort.\n",
    "- A nonlinear model may be used such as RandomForest, SVM with a nonlinear kernel, and even an MLP.\n",
    "- A search may be performed in the hyperparameter space to find the best suited learning parameters. For this case, random search may be attempted, as it was shown that grid search is relatively ineffective [1].\n",
    "- Lastly, an ensemble of models may be built to optimise the performance\n",
    "\n",
    "However, for this exercise, given that performance is not crucial, and the logistic regression provides reasonable results, I will stick to this.\n",
    "\n",
    "[1] Bergstra, James, and Yoshua Bengio. \"Random search for hyper-parameter optimization.\" Journal of Machine Learning Research 13.Feb (2012): 281-305.\n",
    "\n",
    "## Evaluation\n",
    "\n",
    "For evaluation, multiple metrics will be considered. I will use the test dataset I reserved from the beginning and calculate several metrics."
   ]
  },
  {
   "cell_type": "code",
   "execution_count": 20,
   "metadata": {},
   "outputs": [],
   "source": [
    "from sklearn.linear_model import LogisticRegression\n",
    "\n",
    "lr = LogisticRegression() # Default hyperparameters\n",
    "lr.fit(X, y)\n",
    "\n",
    "X_test, y_test = test.drop('Class', axis=1), test['Class']\n",
    "\n",
    "y_prob = lr.predict_proba(X_test)[:, 1] # Probabilities\n",
    "y_pred = lr.predict(X_test) # Predictions"
   ]
  },
  {
   "cell_type": "markdown",
   "metadata": {},
   "source": [
    "### Accuracy\n",
    "\n",
    "Accuracy is computed as $\\frac{TP + TN}{TP + TN + FP + FN}$ -- in other words, what proportion of the data has been correctly classified?"
   ]
  },
  {
   "cell_type": "code",
   "execution_count": 21,
   "metadata": {},
   "outputs": [
    {
     "name": "stdout",
     "output_type": "stream",
     "text": [
      "0.821678321678\n"
     ]
    }
   ],
   "source": [
    "from sklearn import metrics\n",
    "\n",
    "print(metrics.accuracy_score(y_test, y_pred))"
   ]
  },
  {
   "cell_type": "markdown",
   "metadata": {},
   "source": [
    "Accuracy by itself is not very informative--particularly, a naive model may output a constant (either 1 or 0) and obtain:"
   ]
  },
  {
   "cell_type": "code",
   "execution_count": 22,
   "metadata": {},
   "outputs": [
    {
     "data": {
      "text/plain": [
       "0.60839160839160833"
      ]
     },
     "execution_count": 22,
     "metadata": {},
     "output_type": "execute_result"
    }
   ],
   "source": [
    "max(y_test.mean(), 1 - y_test.mean())"
   ]
  },
  {
   "cell_type": "markdown",
   "metadata": {},
   "source": [
    "This slight deviation from `0.5` is caused by the class imbalance."
   ]
  },
  {
   "cell_type": "markdown",
   "metadata": {},
   "source": [
    "### Confusion Matrix"
   ]
  },
  {
   "cell_type": "code",
   "execution_count": 23,
   "metadata": {},
   "outputs": [
    {
     "name": "stdout",
     "output_type": "stream",
     "text": [
      "[[158  16]\n",
      " [ 35  77]]\n"
     ]
    }
   ],
   "source": [
    "print(metrics.confusion_matrix(y_test, y_pred))"
   ]
  },
  {
   "cell_type": "markdown",
   "metadata": {},
   "source": [
    "From above, we can tell that $TP=77$, $TN=158$, $FP=16$, and $FN=35$. From here we may want to calculate metrics such as the sensitivity/specificity/precision and reason which ones should be prioritised according to the business needs. From here, we could adjust the threshold from the default of $0.5$ to accommodate a balance of FP/FN.\n",
    "\n",
    "### F1-score\n",
    "\n",
    "Further, recall and precision along with a balanced F-measure is computed to provide further insight into how the algorithm performs. "
   ]
  },
  {
   "cell_type": "code",
   "execution_count": 24,
   "metadata": {},
   "outputs": [
    {
     "name": "stdout",
     "output_type": "stream",
     "text": [
      "Recall: 0.69\n",
      "Precision: 0.83\n",
      "F1-score: 0.75\n"
     ]
    }
   ],
   "source": [
    "print('Recall: {}'.format(round(metrics.recall_score(y_test, y_pred), 2)))\n",
    "print('Precision: {}'.format(round(metrics.precision_score(y_test, y_pred),2 )))\n",
    "print('F1-score: {}'.format(round(metrics.f1_score(y_test, y_pred), 2)))"
   ]
  },
  {
   "cell_type": "markdown",
   "metadata": {},
   "source": [
    "Depending on the business needs, precision or recall may be prioritised higher."
   ]
  },
  {
   "cell_type": "markdown",
   "metadata": {},
   "source": [
    "### ROC curve\n",
    "\n",
    "Finally, the ROC curve may be used to select a threshold that accounts for business requirements related to sacrificing FP or FN."
   ]
  },
  {
   "cell_type": "code",
   "execution_count": 25,
   "metadata": {},
   "outputs": [
    {
     "data": {
      "image/png": "[encoded data removed]",
      "text/plain": [
       "<matplotlib.figure.Figure at 0x7f7bd15a1dd8>"
      ]
     },
     "metadata": {},
     "output_type": "display_data"
    }
   ],
   "source": [
    "fpr, tpr, thresholds = metrics.roc_curve(y_test, y_prob)\n",
    "auroc = metrics.roc_auc_score(y_test, y_prob)\n",
    "\n",
    "plt.plot(fpr, tpr)\n",
    "plt.title('ROC curve (AUC = {:.3})'.format(auroc))\n",
    "plt.ylabel('True Positive Rate')\n",
    "plt.xlabel('False Positive Rate');"
   ]
  },
  {
   "cell_type": "markdown",
   "metadata": {},
   "source": [
    "It can be seen from above that we can sacrifice a high true positive rate to obtain better recall or the other way around. For instance, we can check some threshold values:"
   ]
  },
  {
   "cell_type": "code",
   "execution_count": 26,
   "metadata": {},
   "outputs": [
    {
     "name": "stdout",
     "output_type": "stream",
     "text": [
      "For threshold 0.1\n",
      "True Positive Rate: 0.96 \n",
      "True Negative Rate: 0.34\n",
      "\n",
      "\n",
      "For threshold 0.9\n",
      "True Positive Rate: 0.062 \n",
      "True Negative Rate: 0.99\n",
      "\n",
      "\n",
      "For threshold 0.5\n",
      "True Positive Rate: 0.69 \n",
      "True Negative Rate: 0.91\n",
      "\n",
      "\n"
     ]
    }
   ],
   "source": [
    "def assess_threshold(threshold):\n",
    "    print('For threshold {}'.format(threshold))\n",
    "    print('True Positive Rate: {:.2} \\nTrue Negative Rate: {:.2}\\n\\n'.format(\n",
    "           tpr[thresholds > threshold][-1], 1 - fpr[thresholds > threshold][-1]))\n",
    "    \n",
    "assess_threshold(0.1)\n",
    "assess_threshold(0.9)\n",
    "assess_threshold(0.5)"
   ]
  },
  {
   "cell_type": "markdown",
   "metadata": {},
   "source": [
    "For this problem, without further context, we will assume the default `0.5` threshold value. This value provides a high specifity (90%) and moderate recall (69%). This means we will have very few false positives, but we may missclassify about 30% of data points of `Class = 1` as being of `Class = 0`."
   ]
  },
  {
   "cell_type": "markdown",
   "metadata": {},
   "source": [
    "## Save Model"
   ]
  },
  {
   "cell_type": "code",
   "execution_count": 27,
   "metadata": {},
   "outputs": [],
   "source": [
    "from sklearn.externals import joblib\n",
    "joblib.dump(lr, '../data/model.pkl')\n",
    "# Also save the means of the columns we kept so we can handle missing valuetp\n",
    "with open('../data/means.pkl', 'wb') as f:\n",
    "    pickle.dump(train.drop('Class', axis=1).mean().to_dict(), f)"
   ]
  }
 ],
 "metadata": {
  "kernelspec": {
   "display_name": "Python 3",
   "language": "python",
   "name": "python3"
  },
  "language_info": {
   "codemirror_mode": {
    "name": "ipython",
    "version": 3
   },
   "file_extension": ".py",
   "mimetype": "text/x-python",
   "name": "python",
   "nbconvert_exporter": "python",
   "pygments_lexer": "ipython3",
   "version": "3.5.2"
  }
 },
 "nbformat": 4,
 "nbformat_minor": 2
}
